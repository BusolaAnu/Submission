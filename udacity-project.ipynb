{
  "cells": [
    {
      "cell_type": "code",
      "source": [
        "from azureml.core import Workspace, Experiment\n",
        "ws = Workspace.from_config()"
      ],
      "outputs": [],
      "execution_count": 1,
      "metadata": {}
    },
    {
      "cell_type": "code",
      "source": [
        "exp = Experiment(workspace=ws, name=\"udacity-project\")\n",
        "\n",
        "run = exp.start_logging()"
      ],
      "outputs": [],
      "execution_count": 2,
      "metadata": {
        "gather": {
          "logged": 1598275788035
        }
      }
    },
    {
      "cell_type": "code",
      "source": [
        "from azureml.core.compute import ComputeTarget, AmlCompute\n",
        "from azureml.core.compute_target import ComputeTargetException\n",
        "\n",
        "# TODO: Create compute cluster\n",
        "# Use vm_size = \"Standard_D2_V2\" in your provisioning configuration.\n",
        "# max_nodes should be no greater than 4.\n",
        "\n",
        "# Choose a name for your CPU cluster\n",
        "cpu_cluster_name = \"UdacityProject\"\n",
        "\n",
        "# Verify that cluster does not exist already\n",
        "try:\n",
        "    cpu_cluster = ComputeTarget(workspace=ws, name=cpu_cluster_name)\n",
        "    print('Found existing cluster')\n",
        "except ComputeTargetException:\n",
        "    compute_config = AmlCompute.provisioning_configuration(vm_size='STANDARD_D2_V2',\n",
        "                                                           max_nodes=4)\n",
        "    cpu_cluster = ComputeTarget.create(ws, cpu_cluster_name, compute_config)\n",
        "\n",
        "cpu_cluster.wait_for_completion(show_output=True)"
      ],
      "outputs": [
        {
          "output_type": "stream",
          "name": "stdout",
          "text": [
            "Creating......\n",
            "SucceededProvisioning operation finished, operation \"Succeeded\"\n",
            "Succeeded\n",
            "AmlCompute wait for completion finished\n",
            "\n",
            "Minimum number of nodes requested have been provisioned\n"
          ]
        }
      ],
      "execution_count": 3,
      "metadata": {
        "gather": {
          "logged": 1598275788675
        },
        "jupyter": {
          "outputs_hidden": false,
          "source_hidden": false
        },
        "nteract": {
          "transient": {
            "deleting": false
          }
        }
      }
    },
    {
      "cell_type": "code",
      "source": [
        "from azureml.widgets import RunDetails\n",
        "from azureml.train.sklearn import SKLearn\n",
        "from azureml.train.hyperdrive.run import PrimaryMetricGoal\n",
        "from azureml.train.hyperdrive.policy import BanditPolicy\n",
        "from azureml.train.hyperdrive.sampling import RandomParameterSampling\n",
        "from azureml.train.hyperdrive.runconfig import HyperDriveConfig\n",
        "from azureml.train.hyperdrive.parameter_expressions import uniform, choice\n",
        "  \n",
        "# Specify parameter sampler\n",
        "ps = RandomParameterSampling({\n",
        "        \"number_of_hidden_layers\": choice(range(1,5)),\n",
        "        \"batch_size\": choice(16, 32, 64, 128)\n",
        "    }\n",
        ")\n",
        "\n",
        "# Specify a Policy\n",
        "policy = BanditPolicy(slack_factor=0.15, evaluation_interval=1, delay_evaluation=10)\n",
        "\n",
        "if \"training\" not in os.listdir():\n",
        "    os.mkdir(\"./training\")\n",
        "    \n",
        "est = SKLearn(source_directory='.', \n",
        "   compute_target=cpu_cluster,\n",
        "   entry_script='train.py',\n",
        "#             pip_packages=pip_packages,\n",
        "   conda_packages=['scikit-learn==0.22.2.post1'])\n",
        "\n",
        "\n",
        "\n"
      ],
      "outputs": [
        {
          "output_type": "stream",
          "name": "stderr",
          "text": [
            "WARNING:azureml.train.sklearn:'SKLearn' estimator is deprecated. Please use 'ScriptRunConfig' from 'azureml.core.script_run_config' with your own defined environment or the AzureML-Tutorial curated environment.\n",
            "WARNING:azureml.core.environment:'enabled' is deprecated. Please use the azureml.core.runconfig.DockerConfiguration object with the 'use_docker' param instead.\n",
            "WARNING:azureml.train.estimator._framework_base_estimator:You have specified to install packages in your run. Note that you have overridden Azure ML's installation of the following packages: ['scikit-learn']. We cannot guarantee image build will succeed.\n"
          ]
        }
      ],
      "execution_count": 26,
      "metadata": {
        "gather": {
          "logged": 1598275789986
        },
        "jupyter": {
          "outputs_hidden": false,
          "source_hidden": false
        },
        "nteract": {
          "transient": {
            "deleting": false
          }
        }
      }
    },
    {
      "cell_type": "code",
      "source": [
        "# %%writefile conda_dependencies.yml\n",
        "\n",
        "# dependencies:\n",
        "# - python=3.6.2\n",
        "# - scikit-learn\n",
        "# - pip:\n",
        "#   - azureml-defaults"
      ],
      "outputs": [],
      "execution_count": 20,
      "metadata": {}
    },
    {
      "cell_type": "code",
      "source": [
        "# from azureml.core import Environment\n",
        "\n",
        "# sklearn_env = Environment.from_conda_specification(name = 'sklearn-env', file_path = './conda_dependencies.yml')\n",
        "\n",
        "\n",
        "# from azureml.core import ScriptRunConfig\n",
        "\n",
        "# src = ScriptRunConfig(source_directory='.',\n",
        "#                       script='train.py',\n",
        "#                       arguments=['--kernel', 'linear', '--penalty', 1.0],\n",
        "#                       compute_target=cpu_cluster,\n",
        "#                       environment=sklearn_env)"
      ],
      "outputs": [],
      "execution_count": 21,
      "metadata": {}
    },
    {
      "cell_type": "code",
      "source": [
        "# Create a HyperDriveConfig using the estimator, hyperparameter sampler, and policy.\n",
        "hyperdrive_config = HyperDriveConfig(estimator = est,\n",
        "#                            run_config=src,\n",
        "                             hyperparameter_sampling=ps,\n",
        "                             policy=policy,\n",
        "                             primary_metric_name=\"Accuracy\",\n",
        "                             primary_metric_goal=PrimaryMetricGoal.MAXIMIZE,\n",
        "                             max_total_runs=100,\n",
        "                             max_concurrent_runs=4)"
      ],
      "outputs": [],
      "execution_count": 27,
      "metadata": {}
    },
    {
      "cell_type": "code",
      "source": [
        "# Submit your hyperdrive run to the experiment and show run details with the widget.\n",
        "hyperdrive_run = exp.submit(hyperdrive_config)"
      ],
      "outputs": [
        {
          "output_type": "stream",
          "name": "stderr",
          "text": [
            "WARNING:root:If 'script' has been provided here and a script file name has been specified in 'run_config', 'script' provided in ScriptRunConfig initialization will take precedence.\n"
          ]
        }
      ],
      "execution_count": 28,
      "metadata": {}
    },
    {
      "cell_type": "code",
      "source": [
        "from azureml.widgets import RunDetails\n",
        "RunDetails(hyperdrive_run).show()\n",
        "hyperdrive_run.wait_for_completion(show_output=True)"
      ],
      "outputs": [],
      "execution_count": 30,
      "metadata": {
        "gather": {
          "logged": 1598276310862
        },
        "jupyter": {
          "outputs_hidden": false,
          "source_hidden": false
        },
        "nteract": {
          "transient": {
            "deleting": false
          }
        },
        "scrolled": true
      }
    },
    {
      "cell_type": "code",
      "source": [
        "assert(hyperdrive_run.get_status() == \"Completed\")"
      ],
      "outputs": [],
      "execution_count": 30,
      "metadata": {}
    },
    {
      "cell_type": "code",
      "source": [
        "best_run = hyperdrive_run.get_best_run_by_primary_metric()\n",
        "best_run_metrics = best_run.get_metrics()\n",
        "parameter_values = best_run.get_details()['runDefinition']['arguments']\n",
        "\n",
        "print('Best Run Id: ', best_run.id)\n",
        "print('\\n Accuracy:', best_run_metrics['accuracy'])\n",
        "print('\\n learning rate:',parameter_values[3])\n",
        "print('\\n keep probability:',parameter_values[5])\n",
        "print('\\n batch size:',parameter_values[7])"
      ],
      "outputs": [],
      "execution_count": 16,
      "metadata": {}
    },
    {
      "cell_type": "code",
      "source": [
        "import joblib\n",
        "# Get your best run and save the model from that run."
      ],
      "outputs": [],
      "execution_count": null,
      "metadata": {}
    },
    {
      "cell_type": "code",
      "source": [
        "best_run = hyperdrive_run.get_best_run_by_primary_metric()\n",
        "best_run_metrics = best_run.get_metrics()"
      ],
      "outputs": [],
      "execution_count": 17,
      "metadata": {}
    },
    {
      "cell_type": "code",
      "source": [
        "parameter_value = best_run.get_details()['runDefinition']['arguments']"
      ],
      "outputs": [],
      "execution_count": 18,
      "metadata": {}
    },
    {
      "cell_type": "markdown",
      "source": [
        "## AutoML"
      ],
      "metadata": {}
    },
    {
      "cell_type": "code",
      "source": [
        "from azureml.data.dataset_factory import TabularDatasetFactory\n",
        "\n",
        "# Create TabularDataset using TabularDatasetFactory\n",
        "# Data is available at: \n",
        "# \"https://automlsamplenotebookdata.blob.core.windows.net/automl-sample-notebook-data/bankmarketing_train.csv\"\n",
        "path = 'https://automlsamplenotebookdata.blob.core.windows.net/automl-sample-notebook-data/bankmarketing_train.csv'\n",
        "autods = TabularDatasetFactory.from_delimited_files(path = path)"
      ],
      "outputs": [],
      "execution_count": 10,
      "metadata": {}
    },
    {
      "cell_type": "code",
      "source": [
        "from train import clean_data"
      ],
      "outputs": [],
      "execution_count": 7,
      "metadata": {}
    },
    {
      "cell_type": "code",
      "source": [
        "ds = clean_data(autods)"
      ],
      "outputs": [],
      "execution_count": 11,
      "metadata": {}
    },
    {
      "cell_type": "code",
      "source": [
        "# from train import clean_data\n",
        "\n",
        "# import pandas as pd\n",
        "# def clean_data(data):\n",
        "#     # Dict for cleaning data\n",
        "#     months = {\"jan\":1, \"feb\":2, \"mar\":3, \"apr\":4, \"may\":5, \"jun\":6, \"jul\":7, \"aug\":8, \"sep\":9, \"oct\":10, \"nov\":11, \"dec\":12}\n",
        "#     weekdays = {\"mon\":1, \"tue\":2, \"wed\":3, \"thu\":4, \"fri\":5, \"sat\":6, \"sun\":7}\n",
        "\n",
        "#     # Clean and one hot encode data\n",
        "#     x_df = data.to_pandas_dataframe().dropna()\n",
        "#     jobs = pd.get_dummies(x_df.job, prefix=\"job\")\n",
        "#     x_df.drop(\"job\", inplace=True, axis=1)\n",
        "#     x_df = x_df.join(jobs)\n",
        "#     x_df[\"marital\"] = x_df.marital.apply(lambda s: 1 if s == \"married\" else 0)\n",
        "#     x_df[\"default\"] = x_df.default.apply(lambda s: 1 if s == \"yes\" else 0)\n",
        "#     x_df[\"housing\"] = x_df.housing.apply(lambda s: 1 if s == \"yes\" else 0)\n",
        "#     x_df[\"loan\"] = x_df.loan.apply(lambda s: 1 if s == \"yes\" else 0)\n",
        "#     contact = pd.get_dummies(x_df.contact, prefix=\"contact\")\n",
        "#     x_df.drop(\"contact\", inplace=True, axis=1)\n",
        "#     x_df = x_df.join(contact)\n",
        "#     education = pd.get_dummies(x_df.education, prefix=\"education\")\n",
        "#     x_df.drop(\"education\", inplace=True, axis=1)\n",
        "#     x_df = x_df.join(education)\n",
        "#     x_df[\"month\"] = x_df.month.map(months)\n",
        "#     x_df[\"day_of_week\"] = x_df.day_of_week.map(weekdays)\n",
        "#     x_df[\"poutcome\"] = x_df.poutcome.apply(lambda s: 1 if s == \"success\" else 0)\n",
        "\n",
        "#     x_df['y_cleaned'] = x_df.pop(\"y\").apply(lambda s: 1 if s == \"yes\" else 0)\n",
        "    \n",
        "#     return x_df\n",
        "\n",
        "# # Use the clean_data function to clean your data.\n",
        "# ds = clean_data(autods)"
      ],
      "outputs": [
        {
          "output_type": "error",
          "ename": "NameError",
          "evalue": "name 'autods' is not defined",
          "traceback": [
            "\u001b[0;31m---------------------------------------------------------------------------\u001b[0m",
            "\u001b[0;31mNameError\u001b[0m                                 Traceback (most recent call last)",
            "\u001b[0;32m<ipython-input-9-ecab88ec25f5>\u001b[0m in \u001b[0;36m<module>\u001b[0;34m\u001b[0m\n\u001b[1;32m     31\u001b[0m \u001b[0;34m\u001b[0m\u001b[0m\n\u001b[1;32m     32\u001b[0m \u001b[0;31m# Use the clean_data function to clean your data.\u001b[0m\u001b[0;34m\u001b[0m\u001b[0;34m\u001b[0m\u001b[0;34m\u001b[0m\u001b[0m\n\u001b[0;32m---> 33\u001b[0;31m \u001b[0mds\u001b[0m \u001b[0;34m=\u001b[0m \u001b[0mclean_data\u001b[0m\u001b[0;34m(\u001b[0m\u001b[0mautods\u001b[0m\u001b[0;34m)\u001b[0m\u001b[0;34m\u001b[0m\u001b[0;34m\u001b[0m\u001b[0m\n\u001b[0m",
            "\u001b[0;31mNameError\u001b[0m: name 'autods' is not defined"
          ]
        }
      ],
      "execution_count": 9,
      "metadata": {
        "gather": {
          "logged": 1598275726969
        },
        "jupyter": {
          "outputs_hidden": false,
          "source_hidden": false
        },
        "nteract": {
          "transient": {
            "deleting": false
          }
        }
      }
    },
    {
      "cell_type": "code",
      "source": [
        "from sklearn.model_selection import train_test_split\n",
        "\n",
        "train, test = train_test_split(ds, test_size=0.2, random_state=11)\n",
        "label_column_name = \"y_cleaned\""
      ],
      "outputs": [],
      "execution_count": 12,
      "metadata": {}
    },
    {
      "cell_type": "code",
      "source": [
        "from azureml.train.automl import AutoMLConfig\n",
        "\n",
        "# Set parameters for AutoMLConfig\n",
        "# NOTE: DO NOT CHANGE THE experiment_timeout_minutes PARAMETER OR YOUR INSTANCE WILL TIME OUT.\n",
        "# If you wish to run the experiment longer, you will need to run this notebook in your own\n",
        "# Azure tenant, which will incur personal costs.\n",
        "automl_settings = {\n",
        "    \"n_cross_validations\": 5,\n",
        "    \"primary_metric\": \"average_precision_score_weighted\",\n",
        "    \"verbosity\": logging.INFO,\n",
        "    \"enable_stack_ensemble\": False,\n",
        "}\n",
        "\n",
        "automl_config = AutoMLConfig(\n",
        "    experiment_timeout_minutes=30,\n",
        "    task=\"classification\",\n",
        "    debug_log=\"automl_errors.log\",\n",
        "    training_data=train,\n",
        "    label_column_name=label_column_name,\n",
        "    **automl_settings)"
      ],
      "outputs": [],
      "execution_count": 14,
      "metadata": {
        "gather": {
          "logged": 1598275665403
        },
        "jupyter": {
          "outputs_hidden": false,
          "source_hidden": false
        },
        "nteract": {
          "transient": {
            "deleting": false
          }
        }
      }
    },
    {
      "cell_type": "code",
      "source": [
        "# Submit your automl run\n",
        "\n",
        "run = exp.submit(config = automl_config, show_output = True)"
      ],
      "outputs": [
        {
          "output_type": "stream",
          "name": "stdout",
          "text": [
            "No run_configuration provided, running on local with default configuration\n",
            "Running in the active local environment.\n"
          ]
        },
        {
          "output_type": "display_data",
          "data": {
            "text/html": "<table style=\"width:100%\"><tr><th>Experiment</th><th>Id</th><th>Type</th><th>Status</th><th>Details Page</th><th>Docs Page</th></tr><tr><td>udacity-project</td><td>AutoML_a669213f-f7b2-4c2d-9092-eca3d008bbea</td><td>automl</td><td>Preparing</td><td><a href=\"https://ml.azure.com/runs/AutoML_a669213f-f7b2-4c2d-9092-eca3d008bbea?wsid=/subscriptions/48a74bb7-9950-4cc1-9caa-5d50f995cc55/resourcegroups/aml-quickstarts-151717/workspaces/quick-starts-ws-151717&amp;tid=660b3398-b80e-49d2-bc5b-ac1dc93b5254\" target=\"_blank\" rel=\"noopener\">Link to Azure Machine Learning studio</a></td><td><a href=\"https://docs.microsoft.com/en-us/python/api/overview/azure/ml/intro?view=azure-ml-py\" target=\"_blank\" rel=\"noopener\">Link to Documentation</a></td></tr></table>",
            "text/plain": "<IPython.core.display.HTML object>"
          },
          "metadata": {}
        },
        {
          "output_type": "stream",
          "name": "stdout",
          "text": [
            "Current status: DatasetEvaluation. Gathering dataset statistics.\n",
            "Current status: FeaturesGeneration. Generating features for the dataset.\n",
            "Current status: DatasetFeaturization. Beginning to fit featurizers and featurize the dataset.\n",
            "Current status: DatasetFeaturizationCompleted. Completed fit featurizers and featurizing the dataset.\n",
            "Current status: DatasetBalancing. Performing class balancing sweeping\n",
            "Current status: DatasetCrossValidationSplit. Generating individually featurized CV splits.\n",
            "\n",
            "****************************************************************************************************\n",
            "DATA GUARDRAILS: \n",
            "\n",
            "TYPE:         Class balancing detection\n",
            "STATUS:       ALERTED\n",
            "DESCRIPTION:  To decrease model bias, please cancel the current run and fix balancing problem.\n",
            "              Learn more about imbalanced data: https://aka.ms/AutomatedMLImbalancedData\n",
            "DETAILS:      Imbalanced data can lead to a falsely perceived positive effect of a model's accuracy because the input data has bias towards one class.\n",
            "+---------------------------------+---------------------------------+--------------------------------------+\n",
            "|Size of the smallest class       |Name/Label of the smallest class |Number of samples in the training data|\n",
            "+=================================+=================================+======================================+\n",
            "|2974                             |1                                |26360                                 |\n",
            "+---------------------------------+---------------------------------+--------------------------------------+\n",
            "\n",
            "****************************************************************************************************\n",
            "\n",
            "TYPE:         Missing feature values imputation\n",
            "STATUS:       PASSED\n",
            "DESCRIPTION:  No feature missing values were detected in the training data.\n",
            "              Learn more about missing value imputation: https://aka.ms/AutomatedMLFeaturization\n",
            "\n",
            "****************************************************************************************************\n",
            "\n",
            "TYPE:         High cardinality feature detection\n",
            "STATUS:       PASSED\n",
            "DESCRIPTION:  Your inputs were analyzed, and no high cardinality features were detected.\n",
            "              Learn more about high cardinality feature handling: https://aka.ms/AutomatedMLFeaturization\n",
            "\n",
            "****************************************************************************************************\n",
            "Current status: ModelSelection. Beginning model selection.\n",
            "\n",
            "****************************************************************************************************\n",
            "ITERATION: The iteration being evaluated.\n",
            "PIPELINE: A summary description of the pipeline being evaluated.\n",
            "DURATION: Time taken for the current iteration.\n",
            "METRIC: The result of computing score on the fitted pipeline.\n",
            "BEST: The best observed score thus far.\n",
            "****************************************************************************************************\n",
            "\n",
            " ITERATION   PIPELINE                                       DURATION      METRIC      BEST\n",
            "         0   MaxAbsScaler LightGBM                          0:00:28       0.9562    0.9562\n",
            "         1   MaxAbsScaler XGBoostClassifier                 0:00:33       0.9567    0.9567\n",
            "         2   MaxAbsScaler ExtremeRandomTrees                0:00:25       0.9155    0.9567\n",
            "         3   MaxAbsScaler ExtremeRandomTrees                0:00:26       0.9352    0.9567\n",
            "         4   MaxAbsScaler ExtremeRandomTrees                0:00:26       0.9082    0.9567\n",
            "         5   MaxAbsScaler RandomForest                      0:00:24       0.9229    0.9567\n",
            "         6   MaxAbsScaler ExtremeRandomTrees                0:00:27       0.9311    0.9567\n",
            "         7   MaxAbsScaler RandomForest                      0:00:25       0.9308    0.9567\n",
            "         8   MaxAbsScaler RandomForest                      0:00:24       0.9317    0.9567\n",
            "         9   StandardScalerWrapper XGBoostClassifier        0:00:25       0.9516    0.9567\n",
            "        10   MaxAbsScaler SGD                               0:00:24       0.9449    0.9567\n",
            "        11   MaxAbsScaler ExtremeRandomTrees                0:00:25       0.9197    0.9567\n",
            "        12   MaxAbsScaler RandomForest                      0:00:25       0.9295    0.9567\n",
            "        13   MaxAbsScaler RandomForest                      0:00:24       0.9274    0.9567\n",
            "        14   MaxAbsScaler ExtremeRandomTrees                0:00:26       0.9061    0.9567\n",
            "        15   SparseNormalizer ExtremeRandomTrees            0:00:28       0.9271    0.9567\n",
            "        16   MaxAbsScaler ExtremeRandomTrees                0:00:29       0.9203    0.9567\n",
            "        17   MaxAbsScaler LightGBM                          0:00:27       0.9562    0.9567\n",
            "        18   TruncatedSVDWrapper XGBoostClassifier          0:00:45       0.9515    0.9567\n",
            "        19   MaxAbsScaler GradientBoosting                  0:00:36       0.9454    0.9567\n",
            "        20   StandardScalerWrapper LogisticRegression       0:00:36       0.9465    0.9567\n",
            "        21   TruncatedSVDWrapper XGBoostClassifier          0:01:34       0.9526    0.9567\n",
            "        22   StandardScalerWrapper LightGBM                 0:00:27       0.9547    0.9567\n",
            "        23   MaxAbsScaler LightGBM                          0:00:34       0.9554    0.9567\n",
            "        24   MaxAbsScaler LightGBM                          0:00:39       0.9564    0.9567\n",
            "        25   SparseNormalizer XGBoostClassifier             0:00:26       0.7999    0.9567\n",
            "        26   MaxAbsScaler LightGBM                          0:00:27       0.9522    0.9567\n",
            "        27   MaxAbsScaler SGD                               0:00:23       0.9454    0.9567\n",
            "        28   MaxAbsScaler LightGBM                          0:00:24       0.9424    0.9567\n",
            "        29   StandardScalerWrapper LightGBM                 0:00:24       0.9538    0.9567\n",
            "        30   TruncatedSVDWrapper XGBoostClassifier          0:00:41       0.9540    0.9567\n",
            "        31   StandardScalerWrapper LogisticRegression       0:00:27       0.9465    0.9567\n",
            "        32   StandardScalerWrapper LightGBM                 0:00:25       0.9525    0.9567\n",
            "        33   TruncatedSVDWrapper XGBoostClassifier          0:02:01       0.9521    0.9567\n",
            "        34   MaxAbsScaler LightGBM                          0:00:32       0.9565    0.9567\n",
            "        35   TruncatedSVDWrapper XGBoostClassifier          0:01:53       0.9540    0.9567\n",
            "        36   MaxAbsScaler LightGBM                          0:00:28       0.9516    0.9567\n",
            "        37   StandardScalerWrapper LightGBM                 0:00:40       0.9560    0.9567\n",
            "        38   TruncatedSVDWrapper XGBoostClassifier          0:03:00       0.9521    0.9567\n",
            "        39   MaxAbsScaler LogisticRegression                0:00:36       0.9455    0.9567\n",
            "        40   TruncatedSVDWrapper XGBoostClassifier          0:00:33       0.9472    0.9567\n",
            "        41   StandardScalerWrapper LightGBM                 0:00:24       0.9465    0.9567\n",
            "        42   MaxAbsScaler LightGBM                          0:00:30       0.9561    0.9567\n",
            "        43   StandardScalerWrapper LightGBM                 0:00:29       0.9563    0.9567\n",
            "        44   MaxAbsScaler LightGBM                          0:00:29       0.9562    0.9567\n",
            "        45   VotingEnsemble                                 0:00:43       0.9576    0.9576\n",
            "Stopping criteria reached at iteration 46. Ending experiment.\n",
            "****************************************************************************************************\n",
            "Current status: BestRunExplainModel. Best run model explanations started\n",
            "Current status: ModelExplanationDataSetSetup. Model explanations data setup completed\n",
            "Current status: PickSurrogateModel. Choosing LightGBM as the surrogate model for explanations\n",
            "Current status: EngineeredFeatureExplanations. Computation of engineered features started\n",
            "Current status: EngineeredFeatureExplanations. Computation of engineered features completed\n",
            "Current status: RawFeaturesExplanations. Computation of raw features started\n",
            "Current status: RawFeaturesExplanations. Computation of raw features completed\n",
            "Current status: BestRunExplainModel. Best run model explanations completed\n",
            "****************************************************************************************************\n"
          ]
        }
      ],
      "execution_count": 15,
      "metadata": {
        "jupyter": {
          "outputs_hidden": false,
          "source_hidden": false
        },
        "nteract": {
          "transient": {
            "deleting": false
          }
        }
      }
    },
    {
      "cell_type": "code",
      "source": [
        "# Retrieve and save your best automl model.\n",
        "\n",
        "best_run, best_model = run.get_output()\n",
        "best_model"
      ],
      "outputs": [
        {
          "output_type": "execute_result",
          "execution_count": 16,
          "data": {
            "text/plain": "Pipeline(memory=None,\n         steps=[('datatransformer',\n                 DataTransformer(enable_dnn=False, enable_feature_sweeping=True, feature_sweeping_config={}, feature_sweeping_timeout=86400, featurization_config=None, force_text_dnn=False, is_cross_validation=True, is_onnx_compatible=False, observer=None, task='classification', working_dir='/mnt/batch/tasks/shared/LS_root/mount...\n), random_state=0, reg_alpha=1.4583333333333335, reg_lambda=1.4583333333333335, subsample=1, tree_method='auto'))], verbose=False))], flatten_transform=None, weights=[0.15384615384615385, 0.07692307692307693, 0.07692307692307693, 0.07692307692307693, 0.07692307692307693, 0.15384615384615385, 0.15384615384615385, 0.07692307692307693, 0.07692307692307693, 0.07692307692307693]))],\n         verbose=False)"
          },
          "metadata": {}
        }
      ],
      "execution_count": 16,
      "metadata": {}
    },
    {
      "cell_type": "code",
      "source": [
        "best_run"
      ],
      "outputs": [
        {
          "output_type": "execute_result",
          "execution_count": 18,
          "data": {
            "text/html": "<table style=\"width:100%\"><tr><th>Experiment</th><th>Id</th><th>Type</th><th>Status</th><th>Details Page</th><th>Docs Page</th></tr><tr><td>udacity-project</td><td>AutoML_a669213f-f7b2-4c2d-9092-eca3d008bbea_45</td><td></td><td>Completed</td><td><a href=\"https://ml.azure.com/runs/AutoML_a669213f-f7b2-4c2d-9092-eca3d008bbea_45?wsid=/subscriptions/48a74bb7-9950-4cc1-9caa-5d50f995cc55/resourcegroups/aml-quickstarts-151717/workspaces/quick-starts-ws-151717&amp;tid=660b3398-b80e-49d2-bc5b-ac1dc93b5254\" target=\"_blank\" rel=\"noopener\">Link to Azure Machine Learning studio</a></td><td><a href=\"https://docs.microsoft.com/en-us/python/api/azureml-core/azureml.core.run.Run?view=azure-ml-py\" target=\"_blank\" rel=\"noopener\">Link to Documentation</a></td></tr></table>",
            "text/plain": "Run(Experiment: udacity-project,\nId: AutoML_a669213f-f7b2-4c2d-9092-eca3d008bbea_45,\nType: None,\nStatus: Completed)"
          },
          "metadata": {}
        }
      ],
      "execution_count": 18,
      "metadata": {}
    },
    {
      "cell_type": "code",
      "source": [
        "delete_compute(cpu_cluster)"
      ],
      "outputs": [],
      "execution_count": null,
      "metadata": {}
    }
  ],
  "metadata": {
    "kernel_info": {
      "name": "python3"
    },
    "kernelspec": {
      "name": "python3",
      "language": "python",
      "display_name": "Python 3"
    },
    "language_info": {
      "name": "python",
      "version": "3.6.9",
      "mimetype": "text/x-python",
      "codemirror_mode": {
        "name": "ipython",
        "version": 3
      },
      "pygments_lexer": "ipython3",
      "nbconvert_exporter": "python",
      "file_extension": ".py"
    },
    "nteract": {
      "version": "nteract-front-end@1.0.0"
    }
  },
  "nbformat": 4,
  "nbformat_minor": 2
}